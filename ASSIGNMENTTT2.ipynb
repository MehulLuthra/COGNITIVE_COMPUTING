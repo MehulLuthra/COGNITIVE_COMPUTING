{
  "nbformat": 4,
  "nbformat_minor": 0,
  "metadata": {
    "colab": {
      "provenance": [],
      "authorship_tag": "ABX9TyO/TsRnVKB7VcF2zDW7DorZ",
      "include_colab_link": true
    },
    "kernelspec": {
      "name": "python3",
      "display_name": "Python 3"
    },
    "language_info": {
      "name": "python"
    }
  },
  "cells": [
    {
      "cell_type": "markdown",
      "metadata": {
        "id": "view-in-github",
        "colab_type": "text"
      },
      "source": [
        "<a href=\"https://colab.research.google.com/github/MehulLuthra/COGNITIVE_COMPUTING/blob/main/Untitled2.ipynb\" target=\"_parent\"><img src=\"https://colab.research.google.com/assets/colab-badge.svg\" alt=\"Open In Colab\"/></a>"
      ]
    },
    {
      "cell_type": "code",
      "execution_count": 4,
      "metadata": {
        "id": "Hj3TFwz0tn4Z",
        "colab": {
          "base_uri": "https://localhost:8080/"
        },
        "outputId": "f0f1c5c8-06b0-4cae-a2af-c83c26db0806"
      },
      "outputs": [
        {
          "output_type": "stream",
          "name": "stdout",
          "text": [
            "[10, 20, 30, 40, 50, 60, 70, 80, 200, 300]\n",
            "[20, 40, 50, 60, 70, 80, 200, 300]\n",
            "[20, 40, 50, 60, 70, 80, 200, 300]\n",
            "[300, 200, 80, 70, 60, 50, 40, 20]\n"
          ]
        }
      ],
      "source": [
        "l=[10,20,30,40,50,60,70,80]\n",
        "l.append(200)\n",
        "l.append(300)\n",
        "print(l)\n",
        "l.remove(10)\n",
        "l.remove(30)\n",
        "print(l)\n",
        "l.sort()\n",
        "print(l)\n",
        "l.sort(reverse=True)\n",
        "print(l)"
      ]
    },
    {
      "cell_type": "code",
      "source": [
        "scores = (45, 89.5, 76, 45.4, 89, 92, 58, 45)\n",
        "\n",
        "\n",
        "highest_score = max(scores)\n",
        "highest_index = scores.index(highest_score)\n",
        "print(f\"Highest score: {highest_score}, Index: {highest_index}\")\n",
        "\n",
        "\n",
        "lowest_score = min(scores)\n",
        "lowest_count = scores.count(lowest_score)\n",
        "print(f\"Lowest score: {lowest_score}, Count: {lowest_count}\")\n",
        "\n",
        "reversed_scores = list(scores[::-1])\n",
        "print(f\"Reversed tuple as list: {reversed_scores}\")\n",
        "\n",
        "\n",
        "specific_score = int(input(\"enter the number\"))\n",
        "if specific_score in scores:\n",
        "    specific_index = scores.index(specific_score)\n",
        "    print(f\"The score {specific_score} is present at index: {specific_index}\")\n",
        "else:\n",
        "    print(f\"The score {specific_score} is not present in the tuple.\")\n"
      ],
      "metadata": {
        "colab": {
          "base_uri": "https://localhost:8080/"
        },
        "id": "l0CoCJOeUS_2",
        "outputId": "0a40dd69-587f-408f-f6b8-22434e9cbee1"
      },
      "execution_count": 6,
      "outputs": [
        {
          "output_type": "stream",
          "name": "stdout",
          "text": [
            "Highest score: 92, Index: 5\n",
            "Lowest score: 45, Count: 2\n",
            "Reversed tuple as list: [45, 58, 92, 89, 45.4, 76, 89.5, 45]\n",
            "enter the number92\n",
            "The score 92 is present at index: 5\n"
          ]
        }
      ]
    },
    {
      "cell_type": "code",
      "source": [
        "import random\n",
        "random_number = [random.randint(100, 900) for _ in range(100)]\n",
        "print(random_number)\n",
        "def isprime(num):\n",
        "    if num<2:\n",
        "        return False\n",
        "    for i in range(2,int(num**0.5)+1):\n",
        "        if num%i==0:\n",
        "            return False\n",
        "    return True\n",
        "\n",
        "\n",
        "prime_numbers = [num for num in random_number if isprime(num)]\n",
        "print(prime_numbers)\n",
        "odd=[num for num in random_number if num%2!=0]\n",
        "print(odd)\n",
        "even=[num for num in random_number if num%2==0]\n",
        "print(even)\n"
      ],
      "metadata": {
        "colab": {
          "base_uri": "https://localhost:8080/"
        },
        "id": "i4rMNpHVU7ma",
        "outputId": "8468e23a-9fcd-4cef-c555-96bbefe58f42"
      },
      "execution_count": 9,
      "outputs": [
        {
          "output_type": "stream",
          "name": "stdout",
          "text": [
            "[799, 269, 100, 285, 244, 797, 759, 490, 743, 196, 813, 118, 417, 620, 724, 290, 394, 359, 330, 763, 825, 787, 593, 337, 608, 213, 130, 128, 469, 516, 538, 655, 214, 326, 443, 428, 219, 832, 789, 267, 687, 788, 679, 616, 550, 106, 231, 497, 211, 110, 147, 484, 504, 766, 299, 122, 714, 890, 516, 553, 657, 742, 127, 786, 162, 278, 183, 868, 663, 738, 878, 324, 707, 712, 248, 264, 497, 790, 533, 538, 159, 841, 115, 328, 736, 356, 120, 384, 656, 163, 330, 207, 301, 252, 674, 583, 108, 273, 560, 330]\n",
            "[269, 797, 743, 359, 787, 593, 337, 443, 211, 127, 163]\n",
            "[799, 269, 285, 797, 759, 743, 813, 417, 359, 763, 825, 787, 593, 337, 213, 469, 655, 443, 219, 789, 267, 687, 679, 231, 497, 211, 147, 299, 553, 657, 127, 183, 663, 707, 497, 533, 159, 841, 115, 163, 207, 301, 583, 273]\n",
            "[100, 244, 490, 196, 118, 620, 724, 290, 394, 330, 608, 130, 128, 516, 538, 214, 326, 428, 832, 788, 616, 550, 106, 110, 484, 504, 766, 122, 714, 890, 516, 742, 786, 162, 278, 868, 738, 878, 324, 712, 248, 264, 790, 538, 328, 736, 356, 120, 384, 656, 330, 252, 674, 108, 560, 330]\n"
          ]
        }
      ]
    },
    {
      "cell_type": "code",
      "source": [
        "A = {34, 56, 78, 90}\n",
        "B = {78, 45, 90, 23}\n",
        "\n",
        "union_scores = A.union(B)\n",
        "print(f\"Unique scores (union): {union_scores}\")\n",
        "\n",
        "intersection_scores = A.intersection(B)\n",
        "print(f\"Common scores (intersection): {intersection_scores}\")\n",
        "\n",
        "symmetric_difference_scores = A.symmetric_difference(B)\n",
        "print(f\"Exclusive scores (symmetric difference): {symmetric_difference_scores}\")\n",
        "\n",
        "is_subset = A.issubset(B)\n",
        "print(f\"Are team A's scores a subset of team B? {is_subset}\")\n",
        "\n",
        "is_superset = B.issuperset(A)\n",
        "print(f\"Are team B's scores a superset of team A? {is_superset}\")\n",
        "\n",
        "X = int(input(\"Enter a score to remove from team A: \"))\n",
        "if X in A:\n",
        "    A.remove(X)\n",
        "    print(f\"Score {X} removed from team A. Updated team A scores: {A}\")\n",
        "else:\n",
        "    print(f\"Score {X} is not present in team A.\")\n"
      ],
      "metadata": {
        "colab": {
          "base_uri": "https://localhost:8080/"
        },
        "id": "7NL9oE2cV--M",
        "outputId": "055ff25c-af72-461c-8b62-be7a89accdfe"
      },
      "execution_count": 11,
      "outputs": [
        {
          "output_type": "stream",
          "name": "stdout",
          "text": [
            "Unique scores (union): {34, 45, 78, 23, 56, 90}\n",
            "Common scores (intersection): {90, 78}\n",
            "Exclusive scores (symmetric difference): {34, 45, 23, 56}\n",
            "Are team A's scores a subset of team B? False\n",
            "Are team B's scores a superset of team A? False\n",
            "Enter a score to remove from team A: 90\n",
            "Score 90 removed from team A. Updated team A scores: {56, 34, 78}\n"
          ]
        }
      ]
    },
    {
      "cell_type": "code",
      "source": [
        "sample_dict={\n",
        "    \"name\":\"kelly\",\n",
        "    \"age\":25,\n",
        "    \"salary\":8000,\n",
        "    \"city\":\"New York\"\n",
        "}\n",
        "if \"city\" in sample_dict:\n",
        "    sample_dict[\"location\"] = sample_dict.pop(\"city\")\n",
        "    print(\"Updated dictionary:\", sample_dict)\n",
        "else:\n",
        "    print(\"Key 'city' not found in the dictionary.\")\n"
      ],
      "metadata": {
        "colab": {
          "base_uri": "https://localhost:8080/"
        },
        "id": "2bFRJ0kqXNCo",
        "outputId": "e43d8936-a209-49bf-d9df-88529db8df0a"
      },
      "execution_count": 13,
      "outputs": [
        {
          "output_type": "stream",
          "name": "stdout",
          "text": [
            "Updated dictionary: {'name': 'kelly', 'age': 25, 'salary': 8000, 'location': 'New York'}\n"
          ]
        }
      ]
    }
  ]
}
