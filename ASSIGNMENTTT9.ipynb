{
  "cells": [
    {
      "cell_type": "markdown",
      "metadata": {
        "id": "view-in-github",
        "colab_type": "text"
      },
      "source": [
        "<a href=\"https://colab.research.google.com/github/MehulLuthra/COGNITIVE_COMPUTING/blob/main/Assignment_9(Cognitive_Computing).ipynb\" target=\"_parent\"><img src=\"https://colab.research.google.com/assets/colab-badge.svg\" alt=\"Open In Colab\"/></a>"
      ]
    },
    {
      "cell_type": "code",
      "execution_count": null,
      "metadata": {
        "colab": {
          "base_uri": "https://localhost:8080/"
        },
        "id": "6KYk7a_xs4y2",
        "outputId": "6de0656c-f6ad-444c-af6d-949e03d7c699"
      },
      "outputs": [
        {
          "name": "stderr",
          "output_type": "stream",
          "text": [
            "[nltk_data] Downloading package punkt to /root/nltk_data...\n",
            "[nltk_data]   Unzipping tokenizers/punkt.zip.\n",
            "[nltk_data] Downloading package stopwords to /root/nltk_data...\n",
            "[nltk_data]   Unzipping corpora/stopwords.zip.\n",
            "[nltk_data] Downloading package wordnet to /root/nltk_data...\n"
          ]
        },
        {
          "data": {
            "text/plain": [
              "True"
            ]
          },
          "execution_count": 2,
          "metadata": {},
          "output_type": "execute_result"
        }
      ],
      "source": [
        "import re\n",
        "import nltk\n",
        "from nltk.tokenize import word_tokenize, sent_tokenize\n",
        "from nltk.corpus import stopwords\n",
        "from nltk.stem import PorterStemmer, LancasterStemmer, WordNetLemmatizer\n",
        "from collections import Counter\n",
        "\n",
        "nltk.download('punkt')\n",
        "nltk.download('stopwords')\n",
        "nltk.download('wordnet')"
      ]
    },
    {
      "cell_type": "markdown",
      "metadata": {
        "id": "AQk9F3zqs1ta"
      },
      "source": [
        "Q1.1"
      ]
    },
    {
      "cell_type": "code",
      "execution_count": null,
      "metadata": {
        "colab": {
          "base_uri": "https://localhost:8080/"
        },
        "id": "VoyNFUN9rN8o",
        "outputId": "f0ea3c6d-80af-4d3e-bf3c-c84a95c0362d"
      },
      "outputs": [
        {
          "name": "stdout",
          "output_type": "stream",
          "text": [
            "steve cohen is a prominent american billionaire and hedge fund manager best known as the founder and ...\n"
          ]
        }
      ],
      "source": [
        "paragraph = \"Steve Cohen is a prominent American billionaire and hedge fund manager, best known as the founder and CEO of Point72 Asset Management, a global multi-strategy investment firm. He launched his first major hedge fund, SAC Capital Advisors, in 1992, achieving remarkable returns and earning a reputation as one of Wall Street's most successful traders. Despite SAC Capital's impressive performance, the firm was ultimately shut down after pleading guilty to insider trading charges in 2013, resulting in $1.8 billion in fines, though Cohen himself was never personally charged. After a period during which he was barred from managing outside money, Cohen re-emerged by transforming his operations into Point72, which now manages billions in assets and serves clients worldwide. Beyond finance, Cohen is also known for his philanthropy, extensive modern art collection, and as the owner and CEO of Major League Baseball's New York Mets, reflecting his wide-ranging influence in both business and culture\"\n",
        "lowercase_text = paragraph.lower()\n",
        "no_punct_text = re.sub(r'[^\\w\\s]', '', lowercase_text)\n",
        "print(no_punct_text[:100], \"...\")"
      ]
    },
    {
      "cell_type": "markdown",
      "metadata": {
        "id": "tPT1aTk8tD1G"
      },
      "source": [
        "Q1.2\n"
      ]
    },
    {
      "cell_type": "code",
      "execution_count": null,
      "metadata": {
        "colab": {
          "base_uri": "https://localhost:8080/"
        },
        "id": "i0E0x5rdtE2t",
        "outputId": "83969aa3-f842-45a6-cc5d-f2f47420060f"
      },
      "outputs": [
        {
          "name": "stderr",
          "output_type": "stream",
          "text": [
            "[nltk_data] Downloading package punkt_tab to /root/nltk_data...\n",
            "[nltk_data]   Unzipping tokenizers/punkt_tab.zip.\n"
          ]
        }
      ],
      "source": [
        "nltk.download('punkt_tab')\n",
        "sentences = sent_tokenize(paragraph)\n",
        "words = word_tokenize(no_punct_text)"
      ]
    },
    {
      "cell_type": "markdown",
      "metadata": {
        "id": "_cvftVpjtrCh"
      },
      "source": [
        "Q1.3\n"
      ]
    },
    {
      "cell_type": "code",
      "execution_count": null,
      "metadata": {
        "id": "W_GZfWo0ttvK"
      },
      "outputs": [],
      "source": [
        "stop_words = set(stopwords.words('english'))\n",
        "filtered_words = [word for word in words if word not in stop_words]"
      ]
    },
    {
      "cell_type": "markdown",
      "metadata": {
        "id": "8VfxAlsFt53t"
      },
      "source": [
        "Q1.4"
      ]
    },
    {
      "cell_type": "code",
      "execution_count": null,
      "metadata": {
        "colab": {
          "base_uri": "https://localhost:8080/"
        },
        "id": "ugnB9wSkt7Jf",
        "outputId": "b01598fd-00f9-4ba0-c4d4-0f39798dfdb1"
      },
      "outputs": [
        {
          "name": "stdout",
          "output_type": "stream",
          "text": [
            "cohen: 4\n",
            "hedge: 2\n",
            "fund: 2\n",
            "known: 2\n",
            "ceo: 2\n",
            "point72: 2\n",
            "firm: 2\n",
            "major: 2\n",
            "sac: 2\n",
            "steve: 1\n"
          ]
        }
      ],
      "source": [
        "word_freq = Counter(filtered_words)\n",
        "for word, count in word_freq.most_common(10):\n",
        "    print(f\"{word}: {count}\")"
      ]
    },
    {
      "cell_type": "markdown",
      "metadata": {
        "id": "MZnn_3A5uNEG"
      },
      "source": [
        "Q2.2"
      ]
    },
    {
      "cell_type": "code",
      "execution_count": null,
      "metadata": {
        "id": "ix6nEmv8uOmQ"
      },
      "outputs": [],
      "source": [
        "from nltk.stem import PorterStemmer, LancasterStemmer, WordNetLemmatizer\n",
        "porter = PorterStemmer()\n",
        "lancaster = LancasterStemmer()\n"
      ]
    },
    {
      "cell_type": "markdown",
      "metadata": {
        "id": "CqhwaSLDu1ix"
      },
      "source": [
        "Q2.3\n"
      ]
    },
    {
      "cell_type": "code",
      "execution_count": null,
      "metadata": {
        "id": "zFQuJ9Eju3sw"
      },
      "outputs": [],
      "source": [
        "lemmatizer = WordNetLemmatizer()"
      ]
    },
    {
      "cell_type": "markdown",
      "metadata": {
        "id": "nfO_-KfBu4pK"
      },
      "source": [
        "Q2.4"
      ]
    },
    {
      "cell_type": "code",
      "execution_count": null,
      "metadata": {
        "colab": {
          "base_uri": "https://localhost:8080/"
        },
        "id": "YzSMKqCvu6Jh",
        "outputId": "908af6cc-8776-4520-d4ad-c95f329b6d75"
      },
      "outputs": [
        {
          "name": "stdout",
          "output_type": "stream",
          "text": [
            "steve\tsteve\tstev\tsteve\n",
            "cohen\tcohen\tcoh\tcohen\n",
            "prominent\tpromin\tpromin\tprominent\n",
            "american\tamerican\tam\tamerican\n",
            "billionaire\tbillionair\tbillionair\tbillionaire\n",
            "hedge\thedg\thedg\thedge\n",
            "fund\tfund\tfund\tfund\n",
            "manager\tmanag\tman\tmanager\n",
            "best\tbest\tbest\tbest\n",
            "known\tknown\tknown\tknown\n"
          ]
        }
      ],
      "source": [
        "for word in filtered_words[:10]:\n",
        "    porter_result = porter.stem(word)\n",
        "    lancaster_result = lancaster.stem(word)\n",
        "    lemma_result = lemmatizer.lemmatize(word)\n",
        "    print(f\"{word}\\t{porter_result}\\t{lancaster_result}\\t{lemma_result}\")\n"
      ]
    },
    {
      "cell_type": "markdown",
      "metadata": {
        "id": "E0a9wH-gvfMX"
      },
      "source": [
        "Q3.2"
      ]
    },
    {
      "cell_type": "code",
      "execution_count": null,
      "metadata": {
        "colab": {
          "base_uri": "https://localhost:8080/"
        },
        "id": "ObNYejjoviBW",
        "outputId": "8942ef7c-8ab1-4f5e-d544-c70031e2544b"
      },
      "outputs": [
        {
          "name": "stdout",
          "output_type": "stream",
          "text": [
            "['prominent', 'American', 'billionaire', 'manager', 'founder', 'Point72', 'Management', 'global', 'strategy', 'investment', 'launched', 'Capital', 'Advisors', 'achieving', 'remarkable']\n",
            "['72', '1992', '2013', '1.8', '72']\n",
            "['Steve', 'Cohen', 'American', 'CEO', 'Asset', 'Management', 'He', 'SAC', 'Capital', 'Advisors', 'Wall', 'Street', 'Despite', 'SAC', 'Capital', 'Cohen', 'After', 'Cohen', 'Beyond', 'Cohen', 'CEO', 'Major', 'League', 'Baseball', 'New', 'York', 'Mets']\n"
          ]
        }
      ],
      "source": [
        "long_words = re.findall(r'\\b\\w{6,}\\b', paragraph)\n",
        "print(long_words[:15])\n",
        "numbers = re.findall(r'\\d+\\.?\\d*', paragraph)\n",
        "print(numbers)\n",
        "cap_words = re.findall(r'\\b[A-Z][a-zA-Z]*\\b', paragraph)\n",
        "print(cap_words)"
      ]
    },
    {
      "cell_type": "markdown",
      "metadata": {
        "id": "oP6VXFItv7qO"
      },
      "source": [
        "Q3.3"
      ]
    },
    {
      "cell_type": "code",
      "execution_count": null,
      "metadata": {
        "colab": {
          "base_uri": "https://localhost:8080/"
        },
        "id": "bpxVC2Axv8wC",
        "outputId": "8c18bc94-33a0-4e6d-c722-fb6fdc3382f7"
      },
      "outputs": [
        {
          "name": "stdout",
          "output_type": "stream",
          "text": [
            "['Steve', 'Cohen', 'is', 'a', 'prominent', 'American', 'billionaire', 'and', 'hedge', 'fund', 'manager', 'best', 'known', 'as', 'the']\n",
            "['is', 'a', 'American', 'and', 'as', 'and', 'of', 'Asset', 'a', 'investment', 'Advisors', 'in', 'achieving', 'and', 'earning', 'a', 'as', 'one', 'of', 'impressive', 'ultimately', 'after', 'insider', 'in', 'in', 'in', 'After', 'a', 'outside', 'emerged', 'operations', 'into', 'in', 'assets', 'and', 'is', 'also', 'extensive', 'art', 'and', 'as', 'owner', 'and', 'of', 'influence', 'in', 'and']\n"
          ]
        }
      ],
      "source": [
        "alpha_only = re.findall(r'\\b[a-zA-Z]+\\b', paragraph)\n",
        "print(alpha_only[:15])\n",
        "vowel_words = re.findall(r'\\b[aeiouAEIOU][a-zA-Z]*\\b', paragraph)\n",
        "print(vowel_words)"
      ]
    },
    {
      "cell_type": "markdown",
      "metadata": {
        "id": "C60pmGYuwBlK"
      },
      "source": [
        "Q4.1\n"
      ]
    },
    {
      "cell_type": "code",
      "execution_count": null,
      "metadata": {
        "id": "4CThC_OwwFxX"
      },
      "outputs": [],
      "source": [
        "text_sample = paragraph + \" His email is steve.cohen@example.com. Check out https://www.point72.com. Call at 123-456-7890 or +91 9876543210. The firm's value is $3.14 billion.\""
      ]
    },
    {
      "cell_type": "markdown",
      "metadata": {
        "id": "UdUfiU2PwHc7"
      },
      "source": [
        "Q4.2"
      ]
    },
    {
      "cell_type": "code",
      "execution_count": null,
      "metadata": {
        "colab": {
          "base_uri": "https://localhost:8080/"
        },
        "id": "eSufuxMEwI8O",
        "outputId": "4438f0fc-a3da-4621-d7e2-c8b57db4182a"
      },
      "outputs": [
        {
          "name": "stdout",
          "output_type": "stream",
          "text": [
            "['Steve', 'Cohen', 'is', 'a', 'prominent', 'American', 'billionaire', 'and', 'hedge', 'fund', 'manager', 'best', 'known', 'as', 'the']\n"
          ]
        }
      ],
      "source": [
        "def custom_tokenize(text):\n",
        "    text_temp = re.sub(r\"(\\w+)'(\\w+)\", r\"\\1'\\2\", text)\n",
        "    text_temp = re.sub(r\"(\\w+)-(\\w+)(-(\\w+))?\", lambda m: m.group(0).replace(\"-\", \"HYPHEN\"), text_temp)\n",
        "    text_temp = re.sub(r\"(\\d+)\\.(\\d+)\", lambda m: m.group(0).replace(\".\", \"DECIMAL\"), text_temp)\n",
        "    text_temp = re.sub(r'[^\\w\\s]', ' ', text_temp)\n",
        "    tokens = text_temp.split()\n",
        "    tokens = [token.replace(\"HYPHEN\", \"-\").replace(\"DECIMAL\", \".\") for token in tokens]\n",
        "\n",
        "    return tokens\n",
        "custom_tokens = custom_tokenize(text_sample)\n",
        "print(custom_tokens[:15])"
      ]
    },
    {
      "cell_type": "markdown",
      "metadata": {
        "id": "AT4z1hUKwT2q"
      },
      "source": [
        "Q4.3"
      ]
    },
    {
      "cell_type": "code",
      "execution_count": null,
      "metadata": {
        "colab": {
          "base_uri": "https://localhost:8080/"
        },
        "id": "7WR1yn6swU7N",
        "outputId": "ab131792-906f-48b1-ee3d-03df13f63ad9"
      },
      "outputs": [
        {
          "name": "stdout",
          "output_type": "stream",
          "text": [
            "Steve Cohen is a prominent American billionaire and hedge fund manager, best known as the founder and CEO of Point72 Asset Management, a global multi-strategy investment firm. He launched his first major hedge fund, SAC Capital Advisors, in 1992, achieving remarkable returns and earning a reputation as one of Wall Street's most successful traders. Despite SAC Capital's impressive performance, the firm was ultimately shut down after pleading guilty to insider trading charges in 2013, resulting in $1.8 billion in fines, though Cohen himself was never personally charged. After a period during which he was barred from managing outside money, Cohen re-emerged by transforming his operations into Point72, which now manages billions in assets and serves clients worldwide. Beyond finance, Cohen is also known for his philanthropy, extensive modern art collection, and as the owner and CEO of Major League Baseball's New York Mets, reflecting his wide-ranging influence in both business and culture His email is <EMAIL>. Check out <URL> Call at <PHONE> or <PHONE>. The firm's value is $3.14 billion.\n"
          ]
        }
      ],
      "source": [
        "email_pattern = r'\\b[A-Za-z0-9._%+-]+@[A-Za-z0-9.-]+\\.[A-Z|a-z]{2,}\\b'\n",
        "email_replaced = re.sub(email_pattern, '<EMAIL>', text_sample)\n",
        "url_pattern = r'https?://(?:[-\\w.]|(?:%[\\da-fA-F]{2}))+'\n",
        "url_replaced = re.sub(url_pattern, '<URL>', email_replaced)\n",
        "\n",
        "phone_pattern = r'(\\+\\d{1,3}\\s\\d{10}|\\d{3}-\\d{3}-\\d{4})'\n",
        "phone_replaced = re.sub(phone_pattern, '<PHONE>', url_replaced)\n",
        "\n",
        "print(phone_replaced)"
      ]
    }
  ],
  "metadata": {
    "colab": {
      "provenance": [],
      "include_colab_link": true
    },
    "kernelspec": {
      "display_name": "Python 3",
      "name": "python3"
    },
    "language_info": {
      "name": "python"
    }
  },
  "nbformat": 4,
  "nbformat_minor": 0
}
