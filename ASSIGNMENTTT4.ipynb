{
  "nbformat": 4,
  "nbformat_minor": 0,
  "metadata": {
    "colab": {
      "provenance": [],
      "authorship_tag": "ABX9TyO8jCCcJA6OEW2/8QluoUoN",
      "include_colab_link": true
    },
    "kernelspec": {
      "name": "python3",
      "display_name": "Python 3"
    },
    "language_info": {
      "name": "python"
    }
  },
  "cells": [
    {
      "cell_type": "markdown",
      "metadata": {
        "id": "view-in-github",
        "colab_type": "text"
      },
      "source": [
        "<a href=\"https://colab.research.google.com/github/MehulLuthra/COGNITIVE_COMPUTING/blob/main/ASSIGNMENTTT4.ipynb\" target=\"_parent\"><img src=\"https://colab.research.google.com/assets/colab-badge.svg\" alt=\"Open In Colab\"/></a>"
      ]
    },
    {
      "cell_type": "code",
      "execution_count": 5,
      "metadata": {
        "colab": {
          "base_uri": "https://localhost:8080/"
        },
        "id": "1sG5JmbNpOhC",
        "outputId": "cd929fbc-f976-4325-99b8-6013dabd1a0d"
      },
      "outputs": [
        {
          "output_type": "execute_result",
          "data": {
            "text/plain": [
              "array([3, 4, 5, 6, 7])"
            ]
          },
          "metadata": {},
          "execution_count": 5
        }
      ],
      "source": [
        "import numpy as np\n",
        "a=np.array([1,2,3,4,5])\n",
        "a=a+2\n",
        "a"
      ]
    },
    {
      "cell_type": "code",
      "source": [
        "a=a*3\n",
        "a"
      ],
      "metadata": {
        "colab": {
          "base_uri": "https://localhost:8080/"
        },
        "id": "1ivFjSgDpyi1",
        "outputId": "61568b2b-1bca-4f17-8fb2-e882a7114291"
      },
      "execution_count": 6,
      "outputs": [
        {
          "output_type": "execute_result",
          "data": {
            "text/plain": [
              "array([ 9, 12, 15, 18, 21])"
            ]
          },
          "metadata": {},
          "execution_count": 6
        }
      ]
    },
    {
      "cell_type": "code",
      "source": [
        "a=a/2\n",
        "a"
      ],
      "metadata": {
        "colab": {
          "base_uri": "https://localhost:8080/"
        },
        "id": "LGtsV-HMp0MJ",
        "outputId": "0470d7ab-465d-48d8-cbcd-a1221a84cbe4"
      },
      "execution_count": 7,
      "outputs": [
        {
          "output_type": "execute_result",
          "data": {
            "text/plain": [
              "array([ 4.5,  6. ,  7.5,  9. , 10.5])"
            ]
          },
          "metadata": {},
          "execution_count": 7
        }
      ]
    },
    {
      "cell_type": "code",
      "source": [
        "arr=np.array([1,2,3,6,4,5])\n",
        "print(arr[::-1])"
      ],
      "metadata": {
        "colab": {
          "base_uri": "https://localhost:8080/"
        },
        "id": "ViIB4zCNp6j-",
        "outputId": "65895d33-7fe1-4c66-a4bc-06cdd620ab69"
      },
      "execution_count": 9,
      "outputs": [
        {
          "output_type": "stream",
          "name": "stdout",
          "text": [
            "[5 4 6 3 2 1]\n"
          ]
        }
      ]
    },
    {
      "cell_type": "code",
      "source": [
        "x=np.array([1,2,3,4,5,1,2,1,1,1])\n",
        "y=np.array([1, 1, 1, 2, 3, 4, 2, 4, 3, 3])\n",
        "unique_x, counts_x = np.unique(x, return_counts=True)\n",
        "max_count_index_x = np.argmax(counts_x)\n",
        "most_freq_x = unique_x[max_count_index_x]\n",
        "indices_x = np.where(x == most_freq_x)[0]\n",
        "\n",
        "unique_y, counts_y = np.unique(y, return_counts=True)\n",
        "max_count_index_y = np.argmax(counts_y)\n",
        "most_freq_y = unique_y[max_count_index_y]\n",
        "indices_y = np.where(y == most_freq_y)[0]\n",
        "\n",
        "print(\"Most Frequent in x:\", most_freq_x, \"at indices\", indices_x)\n",
        "print(\"Most Frequent in y:\", most_freq_y, \"at indices\", indices_y)"
      ],
      "metadata": {
        "colab": {
          "base_uri": "https://localhost:8080/"
        },
        "id": "dbCS-153qG6n",
        "outputId": "e32e4d66-9ef5-4265-a131-2333763215de"
      },
      "execution_count": 13,
      "outputs": [
        {
          "output_type": "stream",
          "name": "stdout",
          "text": [
            "Most Frequent in x: 1 at indices [0 5 7 8 9]\n",
            "Most Frequent in y: 1 at indices [0 1 2]\n"
          ]
        }
      ]
    },
    {
      "cell_type": "code",
      "source": [
        "arr = np.array([\n",
        "    [10, 20, 30],\n",
        "    [40, 50, 60],\n",
        "    [70, 80, 90]\n",
        "])\n",
        "\n",
        "element_a = arr[0, 1]\n",
        "element_b = arr[2, 0]\n",
        "\n",
        "print(\"Element at (1st row, 2nd column):\", element_a)\n",
        "print(\"Element at (3rd row, 1st column):\", element_b)\n"
      ],
      "metadata": {
        "colab": {
          "base_uri": "https://localhost:8080/"
        },
        "id": "3yxkDVMGq0j-",
        "outputId": "865c4245-014a-47b2-f35a-6fd467557266"
      },
      "execution_count": 11,
      "outputs": [
        {
          "output_type": "stream",
          "name": "stdout",
          "text": [
            "Element at (1st row, 2nd column): 20\n",
            "Element at (3rd row, 1st column): 70\n"
          ]
        }
      ]
    },
    {
      "cell_type": "code",
      "source": [
        "my_array = np.linspace(10, 100, 25)\n",
        "\n",
        "\n",
        "print(\"Array:\", my_array)\n",
        "print(\"Shape of the array:\", my_array.shape)\n",
        "print(\"Total elements in the array:\", my_array.size)\n",
        "print(\"Data type of each element:\", my_array.dtype)\n",
        "print(\"Total bytes consumed by the array:\", my_array.nbytes)\n",
        "\n",
        "\n",
        "transposed_array = my_array.reshape(25, 1)\n",
        "print(\"\\nTransposed Array using reshape():\\n\", transposed_array)\n",
        "\n",
        "transposed_using_T = my_array.T\n",
        "print(\"\\nTransposed using T attribute:\\n\", transposed_using_T)\n",
        "\n"
      ],
      "metadata": {
        "colab": {
          "base_uri": "https://localhost:8080/"
        },
        "id": "G4R79w9nq8nD",
        "outputId": "ab71923b-1bcc-4f35-d5c9-65b6a0f5bbe2"
      },
      "execution_count": 12,
      "outputs": [
        {
          "output_type": "stream",
          "name": "stdout",
          "text": [
            "Array: [ 10.    13.75  17.5   21.25  25.    28.75  32.5   36.25  40.    43.75\n",
            "  47.5   51.25  55.    58.75  62.5   66.25  70.    73.75  77.5   81.25\n",
            "  85.    88.75  92.5   96.25 100.  ]\n",
            "Shape of the array: (25,)\n",
            "Total elements in the array: 25\n",
            "Data type of each element: float64\n",
            "Total bytes consumed by the array: 200\n",
            "\n",
            "Transposed Array using reshape():\n",
            " [[ 10.  ]\n",
            " [ 13.75]\n",
            " [ 17.5 ]\n",
            " [ 21.25]\n",
            " [ 25.  ]\n",
            " [ 28.75]\n",
            " [ 32.5 ]\n",
            " [ 36.25]\n",
            " [ 40.  ]\n",
            " [ 43.75]\n",
            " [ 47.5 ]\n",
            " [ 51.25]\n",
            " [ 55.  ]\n",
            " [ 58.75]\n",
            " [ 62.5 ]\n",
            " [ 66.25]\n",
            " [ 70.  ]\n",
            " [ 73.75]\n",
            " [ 77.5 ]\n",
            " [ 81.25]\n",
            " [ 85.  ]\n",
            " [ 88.75]\n",
            " [ 92.5 ]\n",
            " [ 96.25]\n",
            " [100.  ]]\n",
            "\n",
            "Transposed using T attribute:\n",
            " [ 10.    13.75  17.5   21.25  25.    28.75  32.5   36.25  40.    43.75\n",
            "  47.5   51.25  55.    58.75  62.5   66.25  70.    73.75  77.5   81.25\n",
            "  85.    88.75  92.5   96.25 100.  ]\n"
          ]
        }
      ]
    },
    {
      "cell_type": "code",
      "source": [
        "ucs420_Mehul = np.array([[10, 20, 30, 40], [50, 60, 70, 80], [90, 15, 20, 35]])\n",
        "\n",
        "mean_val = np.mean(ucs420_Mehul)\n",
        "median_val = np.median(ucs420_Mehul)\n",
        "max_val = np.max(ucs420_Mehul)\n",
        "min_val = np.min(ucs420_Mehul)\n",
        "unique_vals = np.unique(ucs420_Mehul)\n",
        "\n",
        "reshaped_ucs420_Mehul = ucs420_Mehul.reshape(4, 3)\n",
        "resized_ucs420_Mehul = ucs420_Mehul[:2, :3]\n",
        "\n",
        "print(\"Mean:\", mean_val)\n",
        "print(\"Median:\", median_val)\n",
        "print(\"Max:\", max_val)\n",
        "print(\"Min:\", min_val)\n",
        "print(\"Unique Elements:\", unique_vals)\n",
        "print(\"Original:\\n\",ucs420_Mehul)\n",
        "print(\"Reshaped (4x3):\\n\", reshaped_ucs420_Mehul)\n",
        "print(\"Resized (2x3):\\n\", resized_ucs420_Mehul)"
      ],
      "metadata": {
        "colab": {
          "base_uri": "https://localhost:8080/"
        },
        "id": "9kSh1ouUrkW7",
        "outputId": "d4207ee2-b532-47fc-fef0-b4597d13d117"
      },
      "execution_count": 15,
      "outputs": [
        {
          "output_type": "stream",
          "name": "stdout",
          "text": [
            "Mean: 43.333333333333336\n",
            "Median: 37.5\n",
            "Max: 90\n",
            "Min: 10\n",
            "Unique Elements: [10 15 20 30 35 40 50 60 70 80 90]\n",
            "Original:\n",
            " [[10 20 30 40]\n",
            " [50 60 70 80]\n",
            " [90 15 20 35]]\n",
            "Reshaped (4x3):\n",
            " [[10 20 30]\n",
            " [40 50 60]\n",
            " [70 80 90]\n",
            " [15 20 35]]\n",
            "Resized (2x3):\n",
            " [[10 20 30]\n",
            " [50 60 70]]\n"
          ]
        }
      ]
    },
    {
      "cell_type": "code",
      "source": [],
      "metadata": {
        "id": "-BvQNZ1Gsw4q"
      },
      "execution_count": null,
      "outputs": []
    }
  ]
}