{
  "nbformat": 4,
  "nbformat_minor": 0,
  "metadata": {
    "colab": {
      "provenance": [],
      "authorship_tag": "ABX9TyNbDL1EgQ70eEled1xpYABJ",
      "include_colab_link": true
    },
    "kernelspec": {
      "name": "python3",
      "display_name": "Python 3"
    },
    "language_info": {
      "name": "python"
    }
  },
  "cells": [
    {
      "cell_type": "markdown",
      "metadata": {
        "id": "view-in-github",
        "colab_type": "text"
      },
      "source": [
        "<a href=\"https://colab.research.google.com/github/MehulLuthra/COGNITIVE_COMPUTING/blob/main/ASSIGMENTTT1.ipynb\" target=\"_parent\"><img src=\"https://colab.research.google.com/assets/colab-badge.svg\" alt=\"Open In Colab\"/></a>"
      ]
    },
    {
      "cell_type": "code",
      "execution_count": null,
      "metadata": {
        "colab": {
          "base_uri": "https://localhost:8080/"
        },
        "id": "HjFNMy-c2PsR",
        "outputId": "2ec32dca-9ee2-4232-d909-d0a379f7954d"
      },
      "outputs": [
        {
          "output_type": "stream",
          "name": "stdout",
          "text": [
            "cognitive\n"
          ]
        }
      ],
      "source": [
        "print(\"cognitive\")"
      ]
    },
    {
      "cell_type": "code",
      "source": [
        "print(2+3)\n"
      ],
      "metadata": {
        "colab": {
          "base_uri": "https://localhost:8080/"
        },
        "id": "hrTt_4HC2oKB",
        "outputId": "98357eb8-622d-41d9-a27a-3a4083530c06"
      },
      "execution_count": null,
      "outputs": [
        {
          "output_type": "stream",
          "name": "stdout",
          "text": [
            "5\n"
          ]
        }
      ]
    },
    {
      "cell_type": "code",
      "source": [
        "print(\"hello\"+\"sir\")"
      ],
      "metadata": {
        "colab": {
          "base_uri": "https://localhost:8080/"
        },
        "id": "OjpF6LKg2vBa",
        "outputId": "f939df5b-c5aa-45b7-8028-ce93803c926c"
      },
      "execution_count": null,
      "outputs": [
        {
          "output_type": "stream",
          "name": "stdout",
          "text": [
            "hellosir\n"
          ]
        }
      ]
    },
    {
      "cell_type": "code",
      "source": [
        "a=\"hello\"\n",
        "b=\"7\"\n",
        "c=a+b\n",
        "print(c)"
      ],
      "metadata": {
        "colab": {
          "base_uri": "https://localhost:8080/"
        },
        "id": "-35Q4op020v9",
        "outputId": "9fd5a811-19f2-4001-d682-7b382da3ba16"
      },
      "execution_count": null,
      "outputs": [
        {
          "output_type": "stream",
          "name": "stdout",
          "text": [
            "hello7\n"
          ]
        }
      ]
    },
    {
      "cell_type": "code",
      "source": [
        "a=int(input(\"enter the number\"))\n",
        "if(a<0):{\n",
        "    print(\"a is negative\")\n",
        "}\n",
        "elif(a==0):{\n",
        "    print(\"a is zero\")\n",
        "}\n",
        "else:{\n",
        "    print(\"a is positive\")\n",
        "}"
      ],
      "metadata": {
        "colab": {
          "base_uri": "https://localhost:8080/"
        },
        "id": "34gX9FYw2_Az",
        "outputId": "9450ff2a-0132-4946-d0bc-c6cb473a9970"
      },
      "execution_count": null,
      "outputs": [
        {
          "output_type": "stream",
          "name": "stdout",
          "text": [
            "enter the number7\n",
            "a is positive\n"
          ]
        }
      ]
    },
    {
      "cell_type": "code",
      "source": [
        "a=int(input(\"enter the number\"))\n",
        "if(a%2==0):{\n",
        "    print(\"a is even\")\n",
        "}\n",
        "else:{\n",
        "    print(\"a is odd\")\n",
        "}"
      ],
      "metadata": {
        "colab": {
          "base_uri": "https://localhost:8080/"
        },
        "id": "xvdn1Kv23iER",
        "outputId": "7c2a903a-5c9a-4d81-e00c-21e9d9224292"
      },
      "execution_count": null,
      "outputs": [
        {
          "output_type": "stream",
          "name": "stdout",
          "text": [
            "enter the number3\n",
            "a is odd\n"
          ]
        }
      ]
    },
    {
      "cell_type": "code",
      "source": [
        "for i in range(1,11):{\n",
        "    print(i)\n",
        "}"
      ],
      "metadata": {
        "colab": {
          "base_uri": "https://localhost:8080/"
        },
        "id": "hCH-I1gr3uCo",
        "outputId": "a2c2b4e0-a8af-4f97-f0ee-d303c3467628"
      },
      "execution_count": null,
      "outputs": [
        {
          "output_type": "stream",
          "name": "stdout",
          "text": [
            "1\n",
            "2\n",
            "3\n",
            "4\n",
            "5\n",
            "6\n",
            "7\n",
            "8\n",
            "9\n",
            "10\n"
          ]
        }
      ]
    },
    {
      "cell_type": "code",
      "source": [
        "i=1\n",
        "while i<=10:\n",
        "  print (i)\n",
        "  i+=1"
      ],
      "metadata": {
        "colab": {
          "base_uri": "https://localhost:8080/"
        },
        "id": "8CPgUWcw4ZLP",
        "outputId": "d505b9df-103c-4f3b-ff23-eef016389aed"
      },
      "execution_count": null,
      "outputs": [
        {
          "output_type": "stream",
          "name": "stdout",
          "text": [
            "1\n",
            "2\n",
            "3\n",
            "4\n",
            "5\n",
            "6\n",
            "7\n",
            "8\n",
            "9\n",
            "10\n"
          ]
        }
      ]
    },
    {
      "cell_type": "code",
      "source": [
        "sum=0\n",
        "for i in range(1,101):\n",
        "    sum+=i\n",
        "print(sum)"
      ],
      "metadata": {
        "colab": {
          "base_uri": "https://localhost:8080/"
        },
        "id": "sJ10eAt_4kPm",
        "outputId": "6621195d-c71f-4550-a4fb-f4ad895e917e"
      },
      "execution_count": null,
      "outputs": [
        {
          "output_type": "stream",
          "name": "stdout",
          "text": [
            "5050\n"
          ]
        }
      ]
    },
    {
      "cell_type": "code",
      "source": [
        "thislist=[2,34,5,100,900]\n",
        "print(max(thislist))\n",
        "print(min(thislist))"
      ],
      "metadata": {
        "colab": {
          "base_uri": "https://localhost:8080/"
        },
        "id": "zSbFfPXk5XCo",
        "outputId": "46a90ee9-9a65-4b86-f9b5-278c11f42d99"
      },
      "execution_count": null,
      "outputs": [
        {
          "output_type": "stream",
          "name": "stdout",
          "text": [
            "900\n",
            "2\n"
          ]
        }
      ]
    },
    {
      "cell_type": "code",
      "source": [
        "thisdict={\n",
        "    \"brand\":\"hyundai\",\n",
        "    \"car\":\"creta\",\n",
        "    \"price\":\"15lac\"\n",
        "}\n",
        "a=input(\"enter the key you want to acess\")\n",
        "x=thisdict[a]\n",
        "print(x)\n",
        "y=thisdict.keys()\n",
        "print(y)"
      ],
      "metadata": {
        "colab": {
          "base_uri": "https://localhost:8080/"
        },
        "id": "JnijIRMe542k",
        "outputId": "ed2398f1-7ddb-4065-9fd5-683d3a5454bc"
      },
      "execution_count": null,
      "outputs": [
        {
          "output_type": "stream",
          "name": "stdout",
          "text": [
            "enter the key you want to acessbrand\n",
            "hyundai\n",
            "dict_keys(['brand', 'car', 'price'])\n"
          ]
        }
      ]
    },
    {
      "cell_type": "code",
      "source": [
        "arr=[2,6,1,9,8,7]\n",
        "arr.sort()\n",
        "print(arr)\n",
        "arr.sort(reverse=True)\n",
        "print(arr)"
      ],
      "metadata": {
        "colab": {
          "base_uri": "https://localhost:8080/"
        },
        "id": "lKz8co_O7NLJ",
        "outputId": "582112cc-c043-4abe-e1e3-3771be13dc1e"
      },
      "execution_count": null,
      "outputs": [
        {
          "output_type": "stream",
          "name": "stdout",
          "text": [
            "[1, 2, 6, 7, 8, 9]\n",
            "[9, 8, 7, 6, 2, 1]\n"
          ]
        }
      ]
    },
    {
      "cell_type": "code",
      "source": [
        "dist1={\n",
        "    \"a\":1,\n",
        "    \"b\":2,\n",
        "    \"c\":3\n",
        "}\n",
        "dist2={\n",
        "    \"d\":4,\n",
        "    \"e\":5,\n",
        "    \"f\":6\n",
        "}\n",
        "\n",
        "dist1.update(dist2)\n",
        "print(dist1)"
      ],
      "metadata": {
        "colab": {
          "base_uri": "https://localhost:8080/"
        },
        "id": "uzA7v9fu8sJm",
        "outputId": "e180f47f-c6c2-406c-a87d-987260bce33f"
      },
      "execution_count": null,
      "outputs": [
        {
          "output_type": "stream",
          "name": "stdout",
          "text": [
            "{'a': 1, 'b': 2, 'c': 3, 'd': 4, 'e': 5, 'f': 6}\n"
          ]
        }
      ]
    },
    {
      "cell_type": "code",
      "source": [
        "a=input(\"enter the string\")\n",
        "vowels=0\n",
        "for i in a:\n",
        "    if(i=='a' or i=='e' or i=='i' or i=='o' or i=='u' or i=='A' or i=='E' or i=='I' or i=='O' or i=='U'):\n",
        "        vowels+=1\n",
        "\n",
        "print(vowels)\n"
      ],
      "metadata": {
        "colab": {
          "base_uri": "https://localhost:8080/"
        },
        "id": "b9PBivKP-ehy",
        "outputId": "ae5826a3-4a96-4cff-edef-008c5360a2a7"
      },
      "execution_count": null,
      "outputs": [
        {
          "output_type": "stream",
          "name": "stdout",
          "text": [
            "enter the stringmehul\n",
            "2\n"
          ]
        }
      ]
    },
    {
      "cell_type": "code",
      "source": [
        "a=input(\"enter the string\")\n",
        "print(a[::-1])"
      ],
      "metadata": {
        "colab": {
          "base_uri": "https://localhost:8080/"
        },
        "id": "-caD9hRL9IHf",
        "outputId": "6416a6c2-4114-4c75-d6f1-37c5dc8ea373"
      },
      "execution_count": null,
      "outputs": [
        {
          "output_type": "stream",
          "name": "stdout",
          "text": [
            "enter the stringmehul\n",
            "luhem\n"
          ]
        }
      ]
    },
    {
      "cell_type": "code",
      "source": [
        "a=input(\"enter the string\")\n",
        "x=a[::-1]\n",
        "if(x==a):{\n",
        "    print(\"palindrome\")\n",
        "}\n",
        "else:{\n",
        "    print(\"not palindrome\")\n",
        "}\n"
      ],
      "metadata": {
        "colab": {
          "base_uri": "https://localhost:8080/"
        },
        "id": "GmRWXBLs-RCV",
        "outputId": "c766db52-15a0-467c-8cab-69a0471a96af"
      },
      "execution_count": null,
      "outputs": [
        {
          "output_type": "stream",
          "name": "stdout",
          "text": [
            "enter the stringjack\n",
            "not palindrome\n"
          ]
        }
      ]
    },
    {
      "cell_type": "code",
      "source": [
        "def safe_division(a, b):\n",
        "    try:\n",
        "        result = a / b\n",
        "        print(f\"The result of {a} divided by {b} is: {result}\")\n",
        "    except ZeroDivisionError:\n",
        "        print(\"Error: Division by zero is not allowed.\")\n",
        "    except TypeError:\n",
        "        print(\"Error: Please provide numbers only.\")\n",
        "    finally:\n",
        "        print(\"finaly executed\")\n",
        "\n",
        "safe_division(10, 2)\n",
        "safe_division(10, 0)\n",
        "safe_division(10, \"a\")"
      ],
      "metadata": {
        "colab": {
          "base_uri": "https://localhost:8080/"
        },
        "id": "xP5R6iBqBu1d",
        "outputId": "0295aefe-873c-4e7a-fbff-ccd3162562d8"
      },
      "execution_count": null,
      "outputs": [
        {
          "output_type": "stream",
          "name": "stdout",
          "text": [
            "The result of 10 divided by 2 is: 5.0\n",
            "finaly execued\n",
            "Error: Division by zero is not allowed.\n",
            "finaly execued\n",
            "Error: Please provide numbers only.\n",
            "finaly execued\n"
          ]
        }
      ]
    },
    {
      "cell_type": "code",
      "source": [
        "import random\n",
        "for i in range(5):\n",
        "  random_number=random.randint(1,100)\n",
        "  print(random_number)"
      ],
      "metadata": {
        "colab": {
          "base_uri": "https://localhost:8080/"
        },
        "id": "p5IGTWmlChQf",
        "outputId": "5be7e69e-3c1e-4119-aaf2-f79e4e19e66d"
      },
      "execution_count": null,
      "outputs": [
        {
          "output_type": "stream",
          "name": "stdout",
          "text": [
            "37\n",
            "17\n",
            "97\n",
            "15\n",
            "36\n"
          ]
        }
      ]
    },
    {
      "cell_type": "code",
      "source": [
        "import random\n",
        "import math\n",
        "\n",
        "def is_prime(num):\n",
        "    for i in range(2,num):\n",
        "        if num % i == 0:\n",
        "            return False\n",
        "    return True\n",
        "\n",
        "x = random.randint(1, 1000)\n",
        "print(f\"Random number: {x}\")\n",
        "if is_prime(x):\n",
        "    print(f\"{x} is prime\")\n",
        "else:\n",
        "    print(f\"{x} is not prime\")\n"
      ],
      "metadata": {
        "colab": {
          "base_uri": "https://localhost:8080/"
        },
        "id": "Y8x9cLGjFu22",
        "outputId": "918215d9-8746-4220-d4be-0742f03d6eed"
      },
      "execution_count": null,
      "outputs": [
        {
          "output_type": "stream",
          "name": "stdout",
          "text": [
            "Random number: 525\n",
            "525 is not prime\n"
          ]
        }
      ]
    },
    {
      "cell_type": "code",
      "source": [
        "import random\n",
        "\n",
        "def roll_die():\n",
        "    return random.randint(1, 6)\n",
        "\n",
        "result = roll_die()\n",
        "print(f\"You rolled a {result}\")\n",
        "\n"
      ],
      "metadata": {
        "colab": {
          "base_uri": "https://localhost:8080/"
        },
        "id": "Epz3ExTNIWLc",
        "outputId": "924cc9d5-4984-4723-e903-f7298d631837"
      },
      "execution_count": null,
      "outputs": [
        {
          "output_type": "stream",
          "name": "stdout",
          "text": [
            "You rolled a 2\n"
          ]
        }
      ]
    },
    {
      "cell_type": "code",
      "source": [
        "import random\n",
        "\n",
        "def shuffle_list(numbers):\n",
        "    random.shuffle(numbers)\n",
        "\n",
        "numbers = [1, 2, 3, 4, 5, 6, 7, 8, 9, 10]\n",
        "print(f\"Original list: {numbers}\")\n",
        "\n",
        "shuffle_list(numbers)\n",
        "print(f\"Shuffled list: {numbers}\")\n"
      ],
      "metadata": {
        "colab": {
          "base_uri": "https://localhost:8080/"
        },
        "id": "C7wdVn5MJblJ",
        "outputId": "d49126ec-ee7d-463d-f3f2-c60f014fd819"
      },
      "execution_count": null,
      "outputs": [
        {
          "output_type": "stream",
          "name": "stdout",
          "text": [
            "Original list: [1, 2, 3, 4, 5, 6, 7, 8, 9, 10]\n",
            "Shuffled list: [1, 5, 4, 8, 3, 7, 2, 9, 10, 6]\n"
          ]
        }
      ]
    },
    {
      "cell_type": "code",
      "source": [
        "import random\n",
        "\n",
        "def select_random_item(items):\n",
        "    return random.choice(items)\n",
        "\n",
        "items = ['apple', 'banana', 'cherry', 'mango']\n",
        "print(f\"Original list: {items}\")\n",
        "\n",
        "selected_item = select_random_item(items)\n",
        "print(f\"Randomly selected item: {selected_item}\")\n"
      ],
      "metadata": {
        "colab": {
          "base_uri": "https://localhost:8080/"
        },
        "id": "L-vD8ESHKJjq",
        "outputId": "8612f15a-8b4c-430f-fb1b-4f0cf31fb3c0"
      },
      "execution_count": null,
      "outputs": [
        {
          "output_type": "stream",
          "name": "stdout",
          "text": [
            "Original list: ['apple', 'banana', 'cherry', 'mango']\n",
            "Randomly selected item: mango\n"
          ]
        }
      ]
    },
    {
      "cell_type": "code",
      "source": [
        "n=int(input(\"enter the length of password\"))\n"
      ],
      "metadata": {
        "id": "LDL8fekPK7yy"
      },
      "execution_count": null,
      "outputs": []
    },
    {
      "cell_type": "code",
      "source": [
        "import random\n",
        "\n",
        "def pick_random_card():\n",
        "    suits = ['Hearts', 'Diamonds', 'Clubs', 'Spades']\n",
        "    cards = ['2', '3', '4', '5', '6', '7', '8', '9', '10', 'Jack', 'Queen', 'King', 'Ace']\n",
        "\n",
        "\n",
        "    suit = random.choice(suits)\n",
        "    card = random.choice(cards)\n",
        "\n",
        "\n",
        "    return f\"{card} of {suit}\"\n",
        "\n",
        "A = pick_random_card()\n",
        "print(f\"Randomly picked card: {A}\")\n"
      ],
      "metadata": {
        "colab": {
          "base_uri": "https://localhost:8080/"
        },
        "id": "B1L2VRbDLyIt",
        "outputId": "d2f59a17-dbba-4fa6-a759-25acfed83d86"
      },
      "execution_count": null,
      "outputs": [
        {
          "output_type": "stream",
          "name": "stdout",
          "text": [
            "Randomly picked card: King of Hearts\n"
          ]
        }
      ]
    },
    {
      "cell_type": "code",
      "source": [
        "import math\n",
        "\n",
        "def calculate_square_root():\n",
        "\n",
        "\n",
        "        num = float(input(\"Enter a number to calculate its square root: \"))\n",
        "\n",
        "\n",
        "        result = math.sqrt(num)\n",
        "        print(f\"The square root of {num} is {result}\")\n",
        "\n",
        "\n",
        "\n",
        "\n",
        "calculate_square_root()\n",
        "\n"
      ],
      "metadata": {
        "colab": {
          "base_uri": "https://localhost:8080/"
        },
        "id": "rQmI-0hvvzHv",
        "outputId": "dadfb4f7-cb71-43a7-cccc-c1e9c19ae972"
      },
      "execution_count": null,
      "outputs": [
        {
          "output_type": "stream",
          "name": "stdout",
          "text": [
            "Enter a number to calculate its square root: 49\n",
            "The square root of 49.0 is 7.0\n"
          ]
        }
      ]
    },
    {
      "cell_type": "code",
      "source": [
        "from datetime import datetime\n",
        "\n",
        "def print_current_date_time():\n",
        "\n",
        "    now = datetime.now()\n",
        "\n",
        "\n",
        "    formatted_date_time = now.strftime(\"%Y-%m-%d %H:%M:%S\")\n",
        "    print(f\"Current date and time: {formatted_date_time}\")\n",
        "print_current_date_time()\n"
      ],
      "metadata": {
        "colab": {
          "base_uri": "https://localhost:8080/"
        },
        "id": "x0Hz8cH4xKn2",
        "outputId": "55d21d1c-2a8e-454e-816e-5500490e9b1a"
      },
      "execution_count": null,
      "outputs": [
        {
          "output_type": "stream",
          "name": "stdout",
          "text": [
            "Current date and time: 2025-01-13 08:26:31\n"
          ]
        }
      ]
    },
    {
      "cell_type": "code",
      "source": [
        "import os\n",
        "\n",
        "def list_files_in_directory():\n",
        "\n",
        "    current_directory = os.getcwd()\n",
        "    print(f\"Files in the directory '{current_directory}':\\n\")\n",
        "\n",
        "\n",
        "    items = os.listdir(current_directory)\n",
        "\n",
        "\n",
        "    for item in items:\n",
        "        if os.path.isfile(item):\n",
        "            print(item)\n",
        "\n",
        "list_files_in_directory()\n"
      ],
      "metadata": {
        "colab": {
          "base_uri": "https://localhost:8080/"
        },
        "id": "7KWYCbMXxfkL",
        "outputId": "cbcc18fe-285c-4176-f211-22da05879b78"
      },
      "execution_count": null,
      "outputs": [
        {
          "output_type": "stream",
          "name": "stdout",
          "text": [
            "Files in the directory '/content':\n",
            "\n"
          ]
        }
      ]
    },
    {
      "cell_type": "code",
      "source": [
        "import sys\n",
        "\n",
        "def add_two_numbers():\n",
        "\n",
        "    if len(sys.argv) != 3:\n",
        "        print(\"Usage: python program.py <num1> <num2>\")\n",
        "        return\n",
        "\n",
        "        num1 = float(sys.argv[1])\n",
        "        num2 = float(sys.argv[2])\n",
        "\n",
        "\n",
        "        result = num1 + num2\n",
        "        print(f\"The sum of {num1} and {num2} is {result}\")\n",
        "\n",
        "\n",
        "if __name__ == \"__main__\":\n",
        "    add_two_numbers()\n"
      ],
      "metadata": {
        "id": "esTzcwxrxrtQ"
      },
      "execution_count": null,
      "outputs": []
    },
    {
      "cell_type": "code",
      "source": [
        "import sys\n",
        "\n",
        "def print_string_length():\n",
        "\n",
        "    if len(sys.argv) != 2:\n",
        "        print(\"Usage: python program.py <string>\")\n",
        "        return\n",
        "\n",
        "\n",
        "    input_string = sys.argv[1]\n",
        "\n",
        "\n",
        "    length = len(input_string)\n",
        "    print(f\"The length of the string '{input_string}' is {length}.\")\n",
        "\n",
        "if __name__ == \"__main__\":\n",
        "    print_string_length()\n"
      ],
      "metadata": {
        "colab": {
          "base_uri": "https://localhost:8080/"
        },
        "id": "P8EZudP4x4eF",
        "outputId": "40170473-7998-45fd-e009-ed53ba033f0c"
      },
      "execution_count": null,
      "outputs": [
        {
          "output_type": "stream",
          "name": "stdout",
          "text": [
            "Usage: python program.py <string>\n"
          ]
        }
      ]
    },
    {
      "cell_type": "code",
      "source": [
        "def file_operations():\n",
        "    # 7.1 Create a file, write text into it, and read and print the content\n",
        "    with open(\"example.txt\", \"w\") as file:\n",
        "        file.write(\"hello hie bie see you soon.come back soon\")\n",
        "    print(\"\\n[7.1]  creation:\")\n",
        "    with open(\"example.txt\", \"r\") as file:\n",
        "        print(file.read())\n",
        "\n",
        "    # 7.2 Append text to the file and print the updated content\n",
        "    with open(\"example.txt\", \"a\") as file:\n",
        "        file.write(\"\\nThis is an appended line.\")\n",
        "    print(\"\\n[7.2] after appending:\")\n",
        "    with open(\"example.txt\", \"r\") as file:\n",
        "        print(file.read())\n",
        "\n",
        "    # 7.3 Count the number of lines in the file\n",
        "    with open(\"example.txt\", \"r\") as file:\n",
        "        lines = file.readlines()\n",
        "        print(f\"\\n[7.3] Number of lines in the file: {len(lines)}\")\n",
        "\n",
        "\n",
        "file_operations()\n"
      ],
      "metadata": {
        "id": "MfvLFhYEyYYU"
      },
      "execution_count": null,
      "outputs": []
    }
  ]
}