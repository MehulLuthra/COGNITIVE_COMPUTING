{
  "nbformat": 4,
  "nbformat_minor": 0,
  "metadata": {
    "colab": {
      "provenance": [],
      "authorship_tag": "ABX9TyPcYLhZSsu6d7cwtvYA/TwL",
      "include_colab_link": true
    },
    "kernelspec": {
      "name": "python3",
      "display_name": "Python 3"
    },
    "language_info": {
      "name": "python"
    }
  },
  "cells": [
    {
      "cell_type": "markdown",
      "metadata": {
        "id": "view-in-github",
        "colab_type": "text"
      },
      "source": [
        "<a href=\"https://colab.research.google.com/github/MehulLuthra/COGNITIVE_COMPUTING/blob/main/ASSIGNMENT12.ipynb\" target=\"_parent\"><img src=\"https://colab.research.google.com/assets/colab-badge.svg\" alt=\"Open In Colab\"/></a>"
      ]
    },
    {
      "cell_type": "code",
      "execution_count": 1,
      "metadata": {
        "colab": {
          "base_uri": "https://localhost:8080/",
          "height": 1000
        },
        "id": "qAQgdgGk4WXs",
        "outputId": "e8a39c29-a53b-481c-f831-9debe41d4ff8"
      },
      "outputs": [
        {
          "output_type": "stream",
          "name": "stdout",
          "text": [
            "Collecting chatterbot==1.0.4\n",
            "  Downloading ChatterBot-1.0.4-py2.py3-none-any.whl.metadata (8.0 kB)\n",
            "Collecting chatterbot-corpus<1.3,>=1.2 (from chatterbot==1.0.4)\n",
            "  Downloading chatterbot_corpus-1.2.2-py2.py3-none-any.whl.metadata (1.1 kB)\n",
            "Collecting mathparse<0.2,>=0.1 (from chatterbot==1.0.4)\n",
            "  Downloading mathparse-0.1.5-py3-none-any.whl.metadata (2.0 kB)\n",
            "Requirement already satisfied: nltk<4.0,>=3.2 in /usr/local/lib/python3.11/dist-packages (from chatterbot==1.0.4) (3.9.1)\n",
            "Collecting pymongo<4.0,>=3.3 (from chatterbot==1.0.4)\n",
            "  Downloading pymongo-3.13.0-cp311-cp311-manylinux_2_17_x86_64.manylinux2014_x86_64.whl.metadata (9.7 kB)\n",
            "Collecting python-dateutil<2.8,>=2.7 (from chatterbot==1.0.4)\n",
            "  Downloading python_dateutil-2.7.5-py2.py3-none-any.whl.metadata (7.5 kB)\n",
            "Collecting sqlalchemy<1.3,>=1.2 (from chatterbot==1.0.4)\n",
            "  Downloading SQLAlchemy-1.2.19.tar.gz (5.7 MB)\n",
            "\u001b[2K     \u001b[90m━━━━━━━━━━━━━━━━━━━━━━━━━━━━━━━━━━━━━━━━\u001b[0m \u001b[32m5.7/5.7 MB\u001b[0m \u001b[31m34.4 MB/s\u001b[0m eta \u001b[36m0:00:00\u001b[0m\n",
            "\u001b[?25h  Preparing metadata (setup.py) ... \u001b[?25l\u001b[?25hdone\n",
            "Collecting pint>=0.8.1 (from chatterbot==1.0.4)\n",
            "  Downloading Pint-0.24.4-py3-none-any.whl.metadata (8.5 kB)\n",
            "INFO: pip is looking at multiple versions of mathparse to determine which version is compatible with other requirements. This could take a while.\n",
            "Collecting mathparse<0.2,>=0.1 (from chatterbot==1.0.4)\n",
            "  Downloading mathparse-0.1.2-py3-none-any.whl.metadata (776 bytes)\n",
            "Requirement already satisfied: click in /usr/local/lib/python3.11/dist-packages (from nltk<4.0,>=3.2->chatterbot==1.0.4) (8.1.8)\n",
            "Requirement already satisfied: joblib in /usr/local/lib/python3.11/dist-packages (from nltk<4.0,>=3.2->chatterbot==1.0.4) (1.4.2)\n",
            "Requirement already satisfied: regex>=2021.8.3 in /usr/local/lib/python3.11/dist-packages (from nltk<4.0,>=3.2->chatterbot==1.0.4) (2024.11.6)\n",
            "Requirement already satisfied: tqdm in /usr/local/lib/python3.11/dist-packages (from nltk<4.0,>=3.2->chatterbot==1.0.4) (4.67.1)\n",
            "Requirement already satisfied: platformdirs>=2.1.0 in /usr/local/lib/python3.11/dist-packages (from pint>=0.8.1->chatterbot==1.0.4) (4.3.7)\n",
            "Requirement already satisfied: typing-extensions>=4.0.0 in /usr/local/lib/python3.11/dist-packages (from pint>=0.8.1->chatterbot==1.0.4) (4.13.2)\n",
            "Collecting flexcache>=0.3 (from pint>=0.8.1->chatterbot==1.0.4)\n",
            "  Downloading flexcache-0.3-py3-none-any.whl.metadata (7.0 kB)\n",
            "Collecting flexparser>=0.4 (from pint>=0.8.1->chatterbot==1.0.4)\n",
            "  Downloading flexparser-0.4-py3-none-any.whl.metadata (18 kB)\n",
            "Requirement already satisfied: six>=1.5 in /usr/local/lib/python3.11/dist-packages (from python-dateutil<2.8,>=2.7->chatterbot==1.0.4) (1.17.0)\n",
            "Downloading ChatterBot-1.0.4-py2.py3-none-any.whl (66 kB)\n",
            "\u001b[2K   \u001b[90m━━━━━━━━━━━━━━━━━━━━━━━━━━━━━━━━━━━━━━━━\u001b[0m \u001b[32m66.3/66.3 kB\u001b[0m \u001b[31m4.2 MB/s\u001b[0m eta \u001b[36m0:00:00\u001b[0m\n",
            "\u001b[?25hDownloading chatterbot_corpus-1.2.2-py2.py3-none-any.whl (240 kB)\n",
            "\u001b[2K   \u001b[90m━━━━━━━━━━━━━━━━━━━━━━━━━━━━━━━━━━━━━━━━\u001b[0m \u001b[32m240.5/240.5 kB\u001b[0m \u001b[31m14.8 MB/s\u001b[0m eta \u001b[36m0:00:00\u001b[0m\n",
            "\u001b[?25hDownloading mathparse-0.1.2-py3-none-any.whl (7.2 kB)\n",
            "Downloading Pint-0.24.4-py3-none-any.whl (302 kB)\n",
            "\u001b[2K   \u001b[90m━━━━━━━━━━━━━━━━━━━━━━━━━━━━━━━━━━━━━━━━\u001b[0m \u001b[32m302.0/302.0 kB\u001b[0m \u001b[31m17.7 MB/s\u001b[0m eta \u001b[36m0:00:00\u001b[0m\n",
            "\u001b[?25hDownloading pymongo-3.13.0-cp311-cp311-manylinux_2_17_x86_64.manylinux2014_x86_64.whl (518 kB)\n",
            "\u001b[2K   \u001b[90m━━━━━━━━━━━━━━━━━━━━━━━━━━━━━━━━━━━━━━━━\u001b[0m \u001b[32m518.1/518.1 kB\u001b[0m \u001b[31m28.7 MB/s\u001b[0m eta \u001b[36m0:00:00\u001b[0m\n",
            "\u001b[?25hDownloading python_dateutil-2.7.5-py2.py3-none-any.whl (225 kB)\n",
            "\u001b[2K   \u001b[90m━━━━━━━━━━━━━━━━━━━━━━━━━━━━━━━━━━━━━━━━\u001b[0m \u001b[32m225.7/225.7 kB\u001b[0m \u001b[31m1.7 MB/s\u001b[0m eta \u001b[36m0:00:00\u001b[0m\n",
            "\u001b[?25hDownloading flexcache-0.3-py3-none-any.whl (13 kB)\n",
            "Downloading flexparser-0.4-py3-none-any.whl (27 kB)\n",
            "Building wheels for collected packages: sqlalchemy\n",
            "  Building wheel for sqlalchemy (setup.py) ... \u001b[?25l\u001b[?25hdone\n",
            "  Created wheel for sqlalchemy: filename=SQLAlchemy-1.2.19-cp311-cp311-linux_x86_64.whl size=1144216 sha256=938035516a40fb9aec40a6c0b0bffe6656c40b9073158464a74456f522b5bc67\n",
            "  Stored in directory: /root/.cache/pip/wheels/84/f8/c4/197d55a8fb1059db829a56c32159ac57878eacc9326632231f\n",
            "Successfully built sqlalchemy\n",
            "Installing collected packages: sqlalchemy, mathparse, chatterbot-corpus, python-dateutil, pymongo, flexparser, flexcache, pint, chatterbot\n",
            "  Attempting uninstall: sqlalchemy\n",
            "    Found existing installation: SQLAlchemy 2.0.40\n",
            "    Uninstalling SQLAlchemy-2.0.40:\n",
            "      Successfully uninstalled SQLAlchemy-2.0.40\n",
            "  Attempting uninstall: python-dateutil\n",
            "    Found existing installation: python-dateutil 2.9.0.post0\n",
            "    Uninstalling python-dateutil-2.9.0.post0:\n",
            "      Successfully uninstalled python-dateutil-2.9.0.post0\n",
            "\u001b[31mERROR: pip's dependency resolver does not currently take into account all the packages that are installed. This behaviour is the source of the following dependency conflicts.\n",
            "ibis-framework 9.5.0 requires python-dateutil<3,>=2.8.2, but you have python-dateutil 2.7.5 which is incompatible.\n",
            "bigframes 2.1.0 requires python-dateutil<3,>=2.8.2, but you have python-dateutil 2.7.5 which is incompatible.\n",
            "langchain 0.3.24 requires SQLAlchemy<3,>=1.4, but you have sqlalchemy 1.2.19 which is incompatible.\n",
            "ipython-sql 0.5.0 requires sqlalchemy>=2.0, but you have sqlalchemy 1.2.19 which is incompatible.\n",
            "google-cloud-bigquery 3.31.0 requires python-dateutil<3.0.0,>=2.8.2, but you have python-dateutil 2.7.5 which is incompatible.\n",
            "pandas 2.2.2 requires python-dateutil>=2.8.2, but you have python-dateutil 2.7.5 which is incompatible.\n",
            "betterproto 2.0.0b6 requires python-dateutil<3.0,>=2.8, but you have python-dateutil 2.7.5 which is incompatible.\u001b[0m\u001b[31m\n",
            "\u001b[0mSuccessfully installed chatterbot-1.0.4 chatterbot-corpus-1.2.2 flexcache-0.3 flexparser-0.4 mathparse-0.1.2 pint-0.24.4 pymongo-3.13.0 python-dateutil-2.7.5 sqlalchemy-1.2.19\n"
          ]
        },
        {
          "output_type": "display_data",
          "data": {
            "application/vnd.colab-display-data+json": {
              "pip_warning": {
                "packages": [
                  "dateutil"
                ]
              },
              "id": "769cac17464c4b2ca5db756ca9741dca"
            }
          },
          "metadata": {}
        },
        {
          "output_type": "stream",
          "name": "stdout",
          "text": [
            "Requirement already satisfied: chatterbot-corpus in /usr/local/lib/python3.11/dist-packages (1.2.2)\n",
            "Requirement already satisfied: textblob in /usr/local/lib/python3.11/dist-packages (0.19.0)\n",
            "Requirement already satisfied: nltk>=3.9 in /usr/local/lib/python3.11/dist-packages (from textblob) (3.9.1)\n",
            "Requirement already satisfied: click in /usr/local/lib/python3.11/dist-packages (from nltk>=3.9->textblob) (8.1.8)\n",
            "Requirement already satisfied: joblib in /usr/local/lib/python3.11/dist-packages (from nltk>=3.9->textblob) (1.4.2)\n",
            "Requirement already satisfied: regex>=2021.8.3 in /usr/local/lib/python3.11/dist-packages (from nltk>=3.9->textblob) (2024.11.6)\n",
            "Requirement already satisfied: tqdm in /usr/local/lib/python3.11/dist-packages (from nltk>=3.9->textblob) (4.67.1)\n"
          ]
        }
      ],
      "source": [
        "!pip install chatterbot==1.0.4\n",
        "!pip install chatterbot-corpus\n",
        "!pip install textblob"
      ]
    },
    {
      "cell_type": "code",
      "source": [
        "import nltk\n",
        "nltk.download('punkt')\n",
        "nltk.download('punkt_tab')\n",
        "nltk.download('averaged_perceptron_tagger')\n",
        "nltk.download('stopwords')\n",
        "nltk.download('popular')"
      ],
      "metadata": {
        "colab": {
          "base_uri": "https://localhost:8080/"
        },
        "id": "DcAsbqoK4cbC",
        "outputId": "38c3ec3e-7a93-4acd-d1c6-ebffc8e2b07a"
      },
      "execution_count": 1,
      "outputs": [
        {
          "output_type": "stream",
          "name": "stderr",
          "text": [
            "[nltk_data] Downloading package punkt to /root/nltk_data...\n",
            "[nltk_data]   Unzipping tokenizers/punkt.zip.\n",
            "[nltk_data] Downloading package punkt_tab to /root/nltk_data...\n",
            "[nltk_data]   Unzipping tokenizers/punkt_tab.zip.\n",
            "[nltk_data] Downloading package averaged_perceptron_tagger to\n",
            "[nltk_data]     /root/nltk_data...\n",
            "[nltk_data]   Unzipping taggers/averaged_perceptron_tagger.zip.\n",
            "[nltk_data] Downloading package stopwords to /root/nltk_data...\n",
            "[nltk_data]   Unzipping corpora/stopwords.zip.\n",
            "[nltk_data] Downloading collection 'popular'\n",
            "[nltk_data]    | \n",
            "[nltk_data]    | Downloading package cmudict to /root/nltk_data...\n",
            "[nltk_data]    |   Unzipping corpora/cmudict.zip.\n",
            "[nltk_data]    | Downloading package gazetteers to /root/nltk_data...\n",
            "[nltk_data]    |   Unzipping corpora/gazetteers.zip.\n",
            "[nltk_data]    | Downloading package genesis to /root/nltk_data...\n",
            "[nltk_data]    |   Unzipping corpora/genesis.zip.\n",
            "[nltk_data]    | Downloading package gutenberg to /root/nltk_data...\n",
            "[nltk_data]    |   Unzipping corpora/gutenberg.zip.\n",
            "[nltk_data]    | Downloading package inaugural to /root/nltk_data...\n",
            "[nltk_data]    |   Unzipping corpora/inaugural.zip.\n",
            "[nltk_data]    | Downloading package movie_reviews to\n",
            "[nltk_data]    |     /root/nltk_data...\n",
            "[nltk_data]    |   Unzipping corpora/movie_reviews.zip.\n",
            "[nltk_data]    | Downloading package names to /root/nltk_data...\n",
            "[nltk_data]    |   Unzipping corpora/names.zip.\n",
            "[nltk_data]    | Downloading package shakespeare to /root/nltk_data...\n",
            "[nltk_data]    |   Unzipping corpora/shakespeare.zip.\n",
            "[nltk_data]    | Downloading package stopwords to /root/nltk_data...\n",
            "[nltk_data]    |   Package stopwords is already up-to-date!\n",
            "[nltk_data]    | Downloading package treebank to /root/nltk_data...\n",
            "[nltk_data]    |   Unzipping corpora/treebank.zip.\n",
            "[nltk_data]    | Downloading package twitter_samples to\n",
            "[nltk_data]    |     /root/nltk_data...\n",
            "[nltk_data]    |   Unzipping corpora/twitter_samples.zip.\n",
            "[nltk_data]    | Downloading package omw to /root/nltk_data...\n",
            "[nltk_data]    | Downloading package omw-1.4 to /root/nltk_data...\n",
            "[nltk_data]    | Downloading package wordnet to /root/nltk_data...\n",
            "[nltk_data]    | Downloading package wordnet2021 to /root/nltk_data...\n",
            "[nltk_data]    | Downloading package wordnet31 to /root/nltk_data...\n",
            "[nltk_data]    | Downloading package wordnet_ic to /root/nltk_data...\n",
            "[nltk_data]    |   Unzipping corpora/wordnet_ic.zip.\n",
            "[nltk_data]    | Downloading package words to /root/nltk_data...\n",
            "[nltk_data]    |   Unzipping corpora/words.zip.\n",
            "[nltk_data]    | Downloading package maxent_ne_chunker to\n",
            "[nltk_data]    |     /root/nltk_data...\n",
            "[nltk_data]    |   Unzipping chunkers/maxent_ne_chunker.zip.\n",
            "[nltk_data]    | Downloading package punkt to /root/nltk_data...\n",
            "[nltk_data]    |   Package punkt is already up-to-date!\n",
            "[nltk_data]    | Downloading package snowball_data to\n",
            "[nltk_data]    |     /root/nltk_data...\n",
            "[nltk_data]    | Downloading package averaged_perceptron_tagger to\n",
            "[nltk_data]    |     /root/nltk_data...\n",
            "[nltk_data]    |   Package averaged_perceptron_tagger is already up-\n",
            "[nltk_data]    |       to-date!\n",
            "[nltk_data]    | \n",
            "[nltk_data]  Done downloading collection popular\n"
          ]
        },
        {
          "output_type": "execute_result",
          "data": {
            "text/plain": [
              "True"
            ]
          },
          "metadata": {},
          "execution_count": 1
        }
      ]
    },
    {
      "cell_type": "code",
      "source": [
        "from chatterbot import ChatBot\n",
        "from chatterbot.trainers import ListTrainer\n",
        "from textblob import TextBlob"
      ],
      "metadata": {
        "id": "dP9FqoI24us6"
      },
      "execution_count": 2,
      "outputs": []
    },
    {
      "cell_type": "code",
      "source": [
        "\n",
        "healthbot = ChatBot(\n",
        "    \"HealthBot\",\n",
        "    read_only=True,\n",
        "    logic_adapters=[\n",
        "        \"chatterbot.logic.BestMatch\",\n",
        "        \"chatterbot.logic.MathematicalEvaluation\"\n",
        "    ]\n",
        ")\n",
        "\n",
        "trainer = ListTrainer(healthbot)\n",
        "\n",
        "conversations = [\n",
        "    'Hi',\n",
        "    'Hello! I am HealthBot. How can I assist you today?',\n",
        "    'Hello',\n",
        "    'Hi! Do you have a health-related question?',\n",
        "    'I have a headache',\n",
        "    'You should rest, stay hydrated, and take a mild pain reliever if needed.',\n",
        "    'What should I do if I have a fever?',\n",
        "    'Drink plenty of fluids and rest. If the fever persists, please consult a doctor.',\n",
        "    'I feel dizzy',\n",
        "    'Sit down, breathe deeply, and drink water. If it continues, seek medical help.',\n",
        "    'What should I eat for a cold?',\n",
        "    'Warm fluids, soups, citrus fruits, and light meals help during a cold.',\n",
        "    'How to stay healthy?',\n",
        "    'Eat balanced meals, exercise regularly, stay hydrated, and get enough sleep.',\n",
        "    'What should I do in case of a cut?',\n",
        "    'Clean the wound with water, apply antiseptic, and cover it with a clean bandage.',\n",
        "    'How much water should I drink daily?',\n",
        "    'Generally, 2 to 3 liters per day is recommended, but it varies based on your activity.',\n",
        "    'Thank you',\n",
        "    'You\\'re welcome! Take care.',\n",
        "    'Bye',\n",
        "    'Goodbye! Stay healthy.'\n",
        "]\n",
        "trainer.train(conversations)\n",
        "print(\"HealthBot training complete.\")\n",
        "\n",
        "print(\"\\n=== HealthBot - Your Healthcare Assistant ===\\n\")\n",
        "print(\"Ask something to HealthBot (type 'exit' to end):\\n\")\n",
        "\n",
        "while True:\n",
        "    user_input = input(\"You: \")\n",
        "\n",
        "    if user_input.lower() == 'exit':\n",
        "        print(\"HealthBot: Goodbye! Stay healthy.\")\n",
        "        break\n",
        "\n",
        "    blob = TextBlob(user_input)\n",
        "    polarity = blob.sentiment.polarity\n",
        "\n",
        "    if polarity < -0.3:\n",
        "        prefix = \"I'm sorry you're feeling that way. \"\n",
        "    elif polarity > 0.3:\n",
        "        prefix = \"That's great to hear! \"\n",
        "    else:\n",
        "        prefix = \"\"\n",
        "\n",
        "    response = healthbot.get_response(user_input)\n",
        "\n",
        "    print(f\"HealthBot: {prefix}{response}\")"
      ],
      "metadata": {
        "colab": {
          "base_uri": "https://localhost:8080/"
        },
        "id": "nO2S9TF3402E",
        "outputId": "e57ee10f-2ffe-4852-91d0-d9ff90c6851e"
      },
      "execution_count": null,
      "outputs": [
        {
          "output_type": "stream",
          "name": "stdout",
          "text": [
            "\rList Trainer: [#                   ] 5%"
          ]
        },
        {
          "output_type": "stream",
          "name": "stderr",
          "text": [
            "[nltk_data] Downloading package averaged_perceptron_tagger to\n",
            "[nltk_data]     /root/nltk_data...\n",
            "[nltk_data]   Package averaged_perceptron_tagger is already up-to-\n",
            "[nltk_data]       date!\n",
            "[nltk_data] Downloading package punkt to /root/nltk_data...\n",
            "[nltk_data]   Package punkt is already up-to-date!\n",
            "[nltk_data] Downloading package stopwords to /root/nltk_data...\n",
            "[nltk_data]   Package stopwords is already up-to-date!\n"
          ]
        },
        {
          "output_type": "stream",
          "name": "stdout",
          "text": [
            "List Trainer: [####################] 100%\n",
            "HealthBot training complete.\n",
            "\n",
            "=== HealthBot - Your Healthcare Assistant ===\n",
            "\n",
            "Ask something to HealthBot (type 'exit' to end):\n",
            "\n",
            "You: hello\n",
            "HealthBot: Hi! Do you have a health-related question?\n"
          ]
        }
      ]
    },
    {
      "cell_type": "code",
      "source": [],
      "metadata": {
        "id": "meQbPJlN5AEk"
      },
      "execution_count": null,
      "outputs": []
    }
  ]
}